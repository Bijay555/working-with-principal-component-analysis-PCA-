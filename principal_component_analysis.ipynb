{
 "cells": [
  {
   "cell_type": "code",
   "execution_count": 47,
   "metadata": {},
   "outputs": [
    {
     "data": {
      "text/html": [
       "<div>\n",
       "<style scoped>\n",
       "    .dataframe tbody tr th:only-of-type {\n",
       "        vertical-align: middle;\n",
       "    }\n",
       "\n",
       "    .dataframe tbody tr th {\n",
       "        vertical-align: top;\n",
       "    }\n",
       "\n",
       "    .dataframe thead th {\n",
       "        text-align: right;\n",
       "    }\n",
       "</style>\n",
       "<table border=\"1\" class=\"dataframe\">\n",
       "  <thead>\n",
       "    <tr style=\"text-align: right;\">\n",
       "      <th></th>\n",
       "      <th>Sepal.Length</th>\n",
       "      <th>Sepal.Width</th>\n",
       "      <th>Petal.Length</th>\n",
       "      <th>Petal.Width</th>\n",
       "      <th>Species</th>\n",
       "    </tr>\n",
       "  </thead>\n",
       "  <tbody>\n",
       "    <tr>\n",
       "      <th>0</th>\n",
       "      <td>5.1</td>\n",
       "      <td>3.5</td>\n",
       "      <td>1.4</td>\n",
       "      <td>0.2</td>\n",
       "      <td>setosa</td>\n",
       "    </tr>\n",
       "    <tr>\n",
       "      <th>1</th>\n",
       "      <td>4.9</td>\n",
       "      <td>3.0</td>\n",
       "      <td>1.4</td>\n",
       "      <td>0.2</td>\n",
       "      <td>setosa</td>\n",
       "    </tr>\n",
       "    <tr>\n",
       "      <th>2</th>\n",
       "      <td>4.7</td>\n",
       "      <td>3.2</td>\n",
       "      <td>1.3</td>\n",
       "      <td>0.2</td>\n",
       "      <td>setosa</td>\n",
       "    </tr>\n",
       "    <tr>\n",
       "      <th>3</th>\n",
       "      <td>4.6</td>\n",
       "      <td>3.1</td>\n",
       "      <td>1.5</td>\n",
       "      <td>0.2</td>\n",
       "      <td>setosa</td>\n",
       "    </tr>\n",
       "    <tr>\n",
       "      <th>4</th>\n",
       "      <td>5.0</td>\n",
       "      <td>3.6</td>\n",
       "      <td>1.4</td>\n",
       "      <td>0.2</td>\n",
       "      <td>setosa</td>\n",
       "    </tr>\n",
       "  </tbody>\n",
       "</table>\n",
       "</div>"
      ],
      "text/plain": [
       "   Sepal.Length  Sepal.Width  Petal.Length  Petal.Width Species\n",
       "0           5.1          3.5           1.4          0.2  setosa\n",
       "1           4.9          3.0           1.4          0.2  setosa\n",
       "2           4.7          3.2           1.3          0.2  setosa\n",
       "3           4.6          3.1           1.5          0.2  setosa\n",
       "4           5.0          3.6           1.4          0.2  setosa"
      ]
     },
     "execution_count": 47,
     "metadata": {},
     "output_type": "execute_result"
    }
   ],
   "source": [
    "import numpy as np\n",
    "import pandas as pd\n",
    "import matplotlib.pyplot as plt\n",
    "\n",
    "data=pd.read_csv(\"C:/Users/HP/Downloads/Data/iris.csv\")\n",
    "data.head()"
   ]
  },
  {
   "cell_type": "code",
   "execution_count": 67,
   "metadata": {
    "scrolled": false
   },
   "outputs": [
    {
     "data": {
      "text/html": [
       "<div>\n",
       "<style scoped>\n",
       "    .dataframe tbody tr th:only-of-type {\n",
       "        vertical-align: middle;\n",
       "    }\n",
       "\n",
       "    .dataframe tbody tr th {\n",
       "        vertical-align: top;\n",
       "    }\n",
       "\n",
       "    .dataframe thead th {\n",
       "        text-align: right;\n",
       "    }\n",
       "</style>\n",
       "<table border=\"1\" class=\"dataframe\">\n",
       "  <thead>\n",
       "    <tr style=\"text-align: right;\">\n",
       "      <th></th>\n",
       "      <th>Sepal.Length</th>\n",
       "      <th>Sepal.Width</th>\n",
       "      <th>Petal.Length</th>\n",
       "      <th>Petal.Width</th>\n",
       "      <th>PC1</th>\n",
       "      <th>PC2</th>\n",
       "    </tr>\n",
       "  </thead>\n",
       "  <tbody>\n",
       "    <tr>\n",
       "      <th>count</th>\n",
       "      <td>150.000000</td>\n",
       "      <td>150.000000</td>\n",
       "      <td>150.000000</td>\n",
       "      <td>150.000000</td>\n",
       "      <td>1.500000e+02</td>\n",
       "      <td>1.500000e+02</td>\n",
       "    </tr>\n",
       "    <tr>\n",
       "      <th>mean</th>\n",
       "      <td>5.843333</td>\n",
       "      <td>3.057333</td>\n",
       "      <td>3.758000</td>\n",
       "      <td>1.199333</td>\n",
       "      <td>-4.248453e-16</td>\n",
       "      <td>-3.815466e-16</td>\n",
       "    </tr>\n",
       "    <tr>\n",
       "      <th>std</th>\n",
       "      <td>0.828066</td>\n",
       "      <td>0.435866</td>\n",
       "      <td>1.765298</td>\n",
       "      <td>0.762238</td>\n",
       "      <td>2.056269e+00</td>\n",
       "      <td>4.926162e-01</td>\n",
       "    </tr>\n",
       "    <tr>\n",
       "      <th>min</th>\n",
       "      <td>4.300000</td>\n",
       "      <td>2.000000</td>\n",
       "      <td>1.000000</td>\n",
       "      <td>0.100000</td>\n",
       "      <td>-3.223804e+00</td>\n",
       "      <td>-1.265971e+00</td>\n",
       "    </tr>\n",
       "    <tr>\n",
       "      <th>25%</th>\n",
       "      <td>5.100000</td>\n",
       "      <td>2.800000</td>\n",
       "      <td>1.600000</td>\n",
       "      <td>0.300000</td>\n",
       "      <td>-2.530348e+00</td>\n",
       "      <td>-3.254152e-01</td>\n",
       "    </tr>\n",
       "    <tr>\n",
       "      <th>50%</th>\n",
       "      <td>5.800000</td>\n",
       "      <td>3.000000</td>\n",
       "      <td>4.350000</td>\n",
       "      <td>1.300000</td>\n",
       "      <td>5.546193e-01</td>\n",
       "      <td>-2.215678e-02</td>\n",
       "    </tr>\n",
       "    <tr>\n",
       "      <th>75%</th>\n",
       "      <td>6.400000</td>\n",
       "      <td>3.300000</td>\n",
       "      <td>5.100000</td>\n",
       "      <td>1.800000</td>\n",
       "      <td>1.550143e+00</td>\n",
       "      <td>3.249152e-01</td>\n",
       "    </tr>\n",
       "    <tr>\n",
       "      <th>max</th>\n",
       "      <td>7.900000</td>\n",
       "      <td>4.400000</td>\n",
       "      <td>6.900000</td>\n",
       "      <td>2.500000</td>\n",
       "      <td>3.795645e+00</td>\n",
       "      <td>1.374165e+00</td>\n",
       "    </tr>\n",
       "  </tbody>\n",
       "</table>\n",
       "</div>"
      ],
      "text/plain": [
       "       Sepal.Length  Sepal.Width  Petal.Length  Petal.Width           PC1  \\\n",
       "count    150.000000   150.000000    150.000000   150.000000  1.500000e+02   \n",
       "mean       5.843333     3.057333      3.758000     1.199333 -4.248453e-16   \n",
       "std        0.828066     0.435866      1.765298     0.762238  2.056269e+00   \n",
       "min        4.300000     2.000000      1.000000     0.100000 -3.223804e+00   \n",
       "25%        5.100000     2.800000      1.600000     0.300000 -2.530348e+00   \n",
       "50%        5.800000     3.000000      4.350000     1.300000  5.546193e-01   \n",
       "75%        6.400000     3.300000      5.100000     1.800000  1.550143e+00   \n",
       "max        7.900000     4.400000      6.900000     2.500000  3.795645e+00   \n",
       "\n",
       "                PC2  \n",
       "count  1.500000e+02  \n",
       "mean  -3.815466e-16  \n",
       "std    4.926162e-01  \n",
       "min   -1.265971e+00  \n",
       "25%   -3.254152e-01  \n",
       "50%   -2.215678e-02  \n",
       "75%    3.249152e-01  \n",
       "max    1.374165e+00  "
      ]
     },
     "execution_count": 67,
     "metadata": {},
     "output_type": "execute_result"
    }
   ],
   "source": [
    "data_inp=data[[\"Sepal.Length\",\"Sepal.Width\",\"Petal.Length\",\"Petal.Width\"]].values\n",
    "\n",
    "target=data[\"Species\"].values\n",
    "data.describe()"
   ]
  },
  {
   "cell_type": "code",
   "execution_count": 49,
   "metadata": {},
   "outputs": [
    {
     "name": "stdout",
     "output_type": "stream",
     "text": [
      "[0 0 0 0 0 0 0 0 0 0 0 0 0 0 0 0 0 0 0 0 0 0 0 0 0 0 0 0 0 0 0 0 0 0 0 0 0\n",
      " 0 0 0 0 0 0 0 0 0 0 0 0 0 1 1 1 1 1 1 1 1 1 1 1 1 1 1 1 1 1 1 1 1 1 1 1 1\n",
      " 1 1 1 1 1 1 1 1 1 1 1 1 1 1 1 1 1 1 1 1 1 1 1 1 1 1 2 2 2 2 2 2 2 2 2 2 2\n",
      " 2 2 2 2 2 2 2 2 2 2 2 2 2 2 2 2 2 2 2 2 2 2 2 2 2 2 2 2 2 2 2 2 2 2 2 2 2\n",
      " 2 2]\n"
     ]
    }
   ],
   "source": [
    "from sklearn.preprocessing import LabelEncoder\n",
    "labelencoder_y = LabelEncoder()\n",
    "target= labelencoder_y.fit_transform(target)\n",
    "print(target)"
   ]
  },
  {
   "cell_type": "code",
   "execution_count": 50,
   "metadata": {},
   "outputs": [
    {
     "name": "stdout",
     "output_type": "stream",
     "text": [
      "(150, 4)\n"
     ]
    }
   ],
   "source": [
    "print(data_inp.shape)"
   ]
  },
  {
   "cell_type": "code",
   "execution_count": 51,
   "metadata": {},
   "outputs": [
    {
     "name": "stdout",
     "output_type": "stream",
     "text": [
      "[5.84333333 3.05733333 3.758      1.19933333]\n"
     ]
    }
   ],
   "source": [
    "data_mean=np.mean(data_inp,axis=0)\n",
    "print(data_mean)"
   ]
  },
  {
   "cell_type": "code",
   "execution_count": 70,
   "metadata": {},
   "outputs": [
    {
     "name": "stdout",
     "output_type": "stream",
     "text": [
      "[[-7.43333333e-01  4.42666667e-01 -2.35800000e+00 -9.99333333e-01]\n",
      " [-9.43333333e-01 -5.73333333e-02 -2.35800000e+00 -9.99333333e-01]\n",
      " [-1.14333333e+00  1.42666667e-01 -2.45800000e+00 -9.99333333e-01]\n",
      " [-1.24333333e+00  4.26666667e-02 -2.25800000e+00 -9.99333333e-01]\n",
      " [-8.43333333e-01  5.42666667e-01 -2.35800000e+00 -9.99333333e-01]\n",
      " [-4.43333333e-01  8.42666667e-01 -2.05800000e+00 -7.99333333e-01]\n",
      " [-1.24333333e+00  3.42666667e-01 -2.35800000e+00 -8.99333333e-01]\n",
      " [-8.43333333e-01  3.42666667e-01 -2.25800000e+00 -9.99333333e-01]\n",
      " [-1.44333333e+00 -1.57333333e-01 -2.35800000e+00 -9.99333333e-01]\n",
      " [-9.43333333e-01  4.26666667e-02 -2.25800000e+00 -1.09933333e+00]\n",
      " [-4.43333333e-01  6.42666667e-01 -2.25800000e+00 -9.99333333e-01]\n",
      " [-1.04333333e+00  3.42666667e-01 -2.15800000e+00 -9.99333333e-01]\n",
      " [-1.04333333e+00 -5.73333333e-02 -2.35800000e+00 -1.09933333e+00]\n",
      " [-1.54333333e+00 -5.73333333e-02 -2.65800000e+00 -1.09933333e+00]\n",
      " [-4.33333333e-02  9.42666667e-01 -2.55800000e+00 -9.99333333e-01]\n",
      " [-1.43333333e-01  1.34266667e+00 -2.25800000e+00 -7.99333333e-01]\n",
      " [-4.43333333e-01  8.42666667e-01 -2.45800000e+00 -7.99333333e-01]\n",
      " [-7.43333333e-01  4.42666667e-01 -2.35800000e+00 -8.99333333e-01]\n",
      " [-1.43333333e-01  7.42666667e-01 -2.05800000e+00 -8.99333333e-01]\n",
      " [-7.43333333e-01  7.42666667e-01 -2.25800000e+00 -8.99333333e-01]\n",
      " [-4.43333333e-01  3.42666667e-01 -2.05800000e+00 -9.99333333e-01]\n",
      " [-7.43333333e-01  6.42666667e-01 -2.25800000e+00 -7.99333333e-01]\n",
      " [-1.24333333e+00  5.42666667e-01 -2.75800000e+00 -9.99333333e-01]\n",
      " [-7.43333333e-01  2.42666667e-01 -2.05800000e+00 -6.99333333e-01]\n",
      " [-1.04333333e+00  3.42666667e-01 -1.85800000e+00 -9.99333333e-01]\n",
      " [-8.43333333e-01 -5.73333333e-02 -2.15800000e+00 -9.99333333e-01]\n",
      " [-8.43333333e-01  3.42666667e-01 -2.15800000e+00 -7.99333333e-01]\n",
      " [-6.43333333e-01  4.42666667e-01 -2.25800000e+00 -9.99333333e-01]\n",
      " [-6.43333333e-01  3.42666667e-01 -2.35800000e+00 -9.99333333e-01]\n",
      " [-1.14333333e+00  1.42666667e-01 -2.15800000e+00 -9.99333333e-01]\n",
      " [-1.04333333e+00  4.26666667e-02 -2.15800000e+00 -9.99333333e-01]\n",
      " [-4.43333333e-01  3.42666667e-01 -2.25800000e+00 -7.99333333e-01]\n",
      " [-6.43333333e-01  1.04266667e+00 -2.25800000e+00 -1.09933333e+00]\n",
      " [-3.43333333e-01  1.14266667e+00 -2.35800000e+00 -9.99333333e-01]\n",
      " [-9.43333333e-01  4.26666667e-02 -2.25800000e+00 -9.99333333e-01]\n",
      " [-8.43333333e-01  1.42666667e-01 -2.55800000e+00 -9.99333333e-01]\n",
      " [-3.43333333e-01  4.42666667e-01 -2.45800000e+00 -9.99333333e-01]\n",
      " [-9.43333333e-01  5.42666667e-01 -2.35800000e+00 -1.09933333e+00]\n",
      " [-1.44333333e+00 -5.73333333e-02 -2.45800000e+00 -9.99333333e-01]\n",
      " [-7.43333333e-01  3.42666667e-01 -2.25800000e+00 -9.99333333e-01]\n",
      " [-8.43333333e-01  4.42666667e-01 -2.45800000e+00 -8.99333333e-01]\n",
      " [-1.34333333e+00 -7.57333333e-01 -2.45800000e+00 -8.99333333e-01]\n",
      " [-1.44333333e+00  1.42666667e-01 -2.45800000e+00 -9.99333333e-01]\n",
      " [-8.43333333e-01  4.42666667e-01 -2.15800000e+00 -5.99333333e-01]\n",
      " [-7.43333333e-01  7.42666667e-01 -1.85800000e+00 -7.99333333e-01]\n",
      " [-1.04333333e+00 -5.73333333e-02 -2.35800000e+00 -8.99333333e-01]\n",
      " [-7.43333333e-01  7.42666667e-01 -2.15800000e+00 -9.99333333e-01]\n",
      " [-1.24333333e+00  1.42666667e-01 -2.35800000e+00 -9.99333333e-01]\n",
      " [-5.43333333e-01  6.42666667e-01 -2.25800000e+00 -9.99333333e-01]\n",
      " [-8.43333333e-01  2.42666667e-01 -2.35800000e+00 -9.99333333e-01]\n",
      " [ 1.15666667e+00  1.42666667e-01  9.42000000e-01  2.00666667e-01]\n",
      " [ 5.56666667e-01  1.42666667e-01  7.42000000e-01  3.00666667e-01]\n",
      " [ 1.05666667e+00  4.26666667e-02  1.14200000e+00  3.00666667e-01]\n",
      " [-3.43333333e-01 -7.57333333e-01  2.42000000e-01  1.00666667e-01]\n",
      " [ 6.56666667e-01 -2.57333333e-01  8.42000000e-01  3.00666667e-01]\n",
      " [-1.43333333e-01 -2.57333333e-01  7.42000000e-01  1.00666667e-01]\n",
      " [ 4.56666667e-01  2.42666667e-01  9.42000000e-01  4.00666667e-01]\n",
      " [-9.43333333e-01 -6.57333333e-01 -4.58000000e-01 -1.99333333e-01]\n",
      " [ 7.56666667e-01 -1.57333333e-01  8.42000000e-01  1.00666667e-01]\n",
      " [-6.43333333e-01 -3.57333333e-01  1.42000000e-01  2.00666667e-01]\n",
      " [-8.43333333e-01 -1.05733333e+00 -2.58000000e-01 -1.99333333e-01]\n",
      " [ 5.66666667e-02 -5.73333333e-02  4.42000000e-01  3.00666667e-01]\n",
      " [ 1.56666667e-01 -8.57333333e-01  2.42000000e-01 -1.99333333e-01]\n",
      " [ 2.56666667e-01 -1.57333333e-01  9.42000000e-01  2.00666667e-01]\n",
      " [-2.43333333e-01 -1.57333333e-01 -1.58000000e-01  1.00666667e-01]\n",
      " [ 8.56666667e-01  4.26666667e-02  6.42000000e-01  2.00666667e-01]\n",
      " [-2.43333333e-01 -5.73333333e-02  7.42000000e-01  3.00666667e-01]\n",
      " [-4.33333333e-02 -3.57333333e-01  3.42000000e-01 -1.99333333e-01]\n",
      " [ 3.56666667e-01 -8.57333333e-01  7.42000000e-01  3.00666667e-01]\n",
      " [-2.43333333e-01 -5.57333333e-01  1.42000000e-01 -9.93333333e-02]\n",
      " [ 5.66666667e-02  1.42666667e-01  1.04200000e+00  6.00666667e-01]\n",
      " [ 2.56666667e-01 -2.57333333e-01  2.42000000e-01  1.00666667e-01]\n",
      " [ 4.56666667e-01 -5.57333333e-01  1.14200000e+00  3.00666667e-01]\n",
      " [ 2.56666667e-01 -2.57333333e-01  9.42000000e-01  6.66666667e-04]\n",
      " [ 5.56666667e-01 -1.57333333e-01  5.42000000e-01  1.00666667e-01]\n",
      " [ 7.56666667e-01 -5.73333333e-02  6.42000000e-01  2.00666667e-01]\n",
      " [ 9.56666667e-01 -2.57333333e-01  1.04200000e+00  2.00666667e-01]\n",
      " [ 8.56666667e-01 -5.73333333e-02  1.24200000e+00  5.00666667e-01]\n",
      " [ 1.56666667e-01 -1.57333333e-01  7.42000000e-01  3.00666667e-01]\n",
      " [-1.43333333e-01 -4.57333333e-01 -2.58000000e-01 -1.99333333e-01]\n",
      " [-3.43333333e-01 -6.57333333e-01  4.20000000e-02 -9.93333333e-02]\n",
      " [-3.43333333e-01 -6.57333333e-01 -5.80000000e-02 -1.99333333e-01]\n",
      " [-4.33333333e-02 -3.57333333e-01  1.42000000e-01  6.66666667e-04]\n",
      " [ 1.56666667e-01 -3.57333333e-01  1.34200000e+00  4.00666667e-01]\n",
      " [-4.43333333e-01 -5.73333333e-02  7.42000000e-01  3.00666667e-01]\n",
      " [ 1.56666667e-01  3.42666667e-01  7.42000000e-01  4.00666667e-01]\n",
      " [ 8.56666667e-01  4.26666667e-02  9.42000000e-01  3.00666667e-01]\n",
      " [ 4.56666667e-01 -7.57333333e-01  6.42000000e-01  1.00666667e-01]\n",
      " [-2.43333333e-01 -5.73333333e-02  3.42000000e-01  1.00666667e-01]\n",
      " [-3.43333333e-01 -5.57333333e-01  2.42000000e-01  1.00666667e-01]\n",
      " [-3.43333333e-01 -4.57333333e-01  6.42000000e-01  6.66666667e-04]\n",
      " [ 2.56666667e-01 -5.73333333e-02  8.42000000e-01  2.00666667e-01]\n",
      " [-4.33333333e-02 -4.57333333e-01  2.42000000e-01  6.66666667e-04]\n",
      " [-8.43333333e-01 -7.57333333e-01 -4.58000000e-01 -1.99333333e-01]\n",
      " [-2.43333333e-01 -3.57333333e-01  4.42000000e-01  1.00666667e-01]\n",
      " [-1.43333333e-01 -5.73333333e-02  4.42000000e-01  6.66666667e-04]\n",
      " [-1.43333333e-01 -1.57333333e-01  4.42000000e-01  1.00666667e-01]\n",
      " [ 3.56666667e-01 -1.57333333e-01  5.42000000e-01  1.00666667e-01]\n",
      " [-7.43333333e-01 -5.57333333e-01 -7.58000000e-01 -9.93333333e-02]\n",
      " [-1.43333333e-01 -2.57333333e-01  3.42000000e-01  1.00666667e-01]\n",
      " [ 4.56666667e-01  2.42666667e-01  2.24200000e+00  1.30066667e+00]\n",
      " [-4.33333333e-02 -3.57333333e-01  1.34200000e+00  7.00666667e-01]\n",
      " [ 1.25666667e+00 -5.73333333e-02  2.14200000e+00  9.00666667e-01]\n",
      " [ 4.56666667e-01 -1.57333333e-01  1.84200000e+00  6.00666667e-01]\n",
      " [ 6.56666667e-01 -5.73333333e-02  2.04200000e+00  1.00066667e+00]\n",
      " [ 1.75666667e+00 -5.73333333e-02  2.84200000e+00  9.00666667e-01]\n",
      " [-9.43333333e-01 -5.57333333e-01  7.42000000e-01  5.00666667e-01]\n",
      " [ 1.45666667e+00 -1.57333333e-01  2.54200000e+00  6.00666667e-01]\n",
      " [ 8.56666667e-01 -5.57333333e-01  2.04200000e+00  6.00666667e-01]\n",
      " [ 1.35666667e+00  5.42666667e-01  2.34200000e+00  1.30066667e+00]\n",
      " [ 6.56666667e-01  1.42666667e-01  1.34200000e+00  8.00666667e-01]\n",
      " [ 5.56666667e-01 -3.57333333e-01  1.54200000e+00  7.00666667e-01]\n",
      " [ 9.56666667e-01 -5.73333333e-02  1.74200000e+00  9.00666667e-01]\n",
      " [-1.43333333e-01 -5.57333333e-01  1.24200000e+00  8.00666667e-01]\n",
      " [-4.33333333e-02 -2.57333333e-01  1.34200000e+00  1.20066667e+00]\n",
      " [ 5.56666667e-01  1.42666667e-01  1.54200000e+00  1.10066667e+00]\n",
      " [ 6.56666667e-01 -5.73333333e-02  1.74200000e+00  6.00666667e-01]\n",
      " [ 1.85666667e+00  7.42666667e-01  2.94200000e+00  1.00066667e+00]\n",
      " [ 1.85666667e+00 -4.57333333e-01  3.14200000e+00  1.10066667e+00]\n",
      " [ 1.56666667e-01 -8.57333333e-01  1.24200000e+00  3.00666667e-01]\n",
      " [ 1.05666667e+00  1.42666667e-01  1.94200000e+00  1.10066667e+00]\n",
      " [-2.43333333e-01 -2.57333333e-01  1.14200000e+00  8.00666667e-01]\n",
      " [ 1.85666667e+00 -2.57333333e-01  2.94200000e+00  8.00666667e-01]\n",
      " [ 4.56666667e-01 -3.57333333e-01  1.14200000e+00  6.00666667e-01]\n",
      " [ 8.56666667e-01  2.42666667e-01  1.94200000e+00  9.00666667e-01]\n",
      " [ 1.35666667e+00  1.42666667e-01  2.24200000e+00  6.00666667e-01]\n",
      " [ 3.56666667e-01 -2.57333333e-01  1.04200000e+00  6.00666667e-01]\n",
      " [ 2.56666667e-01 -5.73333333e-02  1.14200000e+00  6.00666667e-01]\n",
      " [ 5.56666667e-01 -2.57333333e-01  1.84200000e+00  9.00666667e-01]\n",
      " [ 1.35666667e+00 -5.73333333e-02  2.04200000e+00  4.00666667e-01]\n",
      " [ 1.55666667e+00 -2.57333333e-01  2.34200000e+00  7.00666667e-01]\n",
      " [ 2.05666667e+00  7.42666667e-01  2.64200000e+00  8.00666667e-01]\n",
      " [ 5.56666667e-01 -2.57333333e-01  1.84200000e+00  1.00066667e+00]\n",
      " [ 4.56666667e-01 -2.57333333e-01  1.34200000e+00  3.00666667e-01]\n",
      " [ 2.56666667e-01 -4.57333333e-01  1.84200000e+00  2.00666667e-01]\n",
      " [ 1.85666667e+00 -5.73333333e-02  2.34200000e+00  1.10066667e+00]\n",
      " [ 4.56666667e-01  3.42666667e-01  1.84200000e+00  1.20066667e+00]\n",
      " [ 5.56666667e-01  4.26666667e-02  1.74200000e+00  6.00666667e-01]\n",
      " [ 1.56666667e-01 -5.73333333e-02  1.04200000e+00  6.00666667e-01]\n",
      " [ 1.05666667e+00  4.26666667e-02  1.64200000e+00  9.00666667e-01]\n",
      " [ 8.56666667e-01  4.26666667e-02  1.84200000e+00  1.20066667e+00]\n",
      " [ 1.05666667e+00  4.26666667e-02  1.34200000e+00  1.10066667e+00]\n",
      " [-4.33333333e-02 -3.57333333e-01  1.34200000e+00  7.00666667e-01]\n",
      " [ 9.56666667e-01  1.42666667e-01  2.14200000e+00  1.10066667e+00]\n",
      " [ 8.56666667e-01  2.42666667e-01  1.94200000e+00  1.30066667e+00]\n",
      " [ 8.56666667e-01 -5.73333333e-02  1.44200000e+00  1.10066667e+00]\n",
      " [ 4.56666667e-01 -5.57333333e-01  1.24200000e+00  7.00666667e-01]\n",
      " [ 6.56666667e-01 -5.73333333e-02  1.44200000e+00  8.00666667e-01]\n",
      " [ 3.56666667e-01  3.42666667e-01  1.64200000e+00  1.10066667e+00]\n",
      " [ 5.66666667e-02 -5.73333333e-02  1.34200000e+00  6.00666667e-01]]\n"
     ]
    }
   ],
   "source": [
    "#d=data_inp-data_mean\n",
    "d=[]\n",
    "d=data_inp-data_mean\n",
    "print(d)"
   ]
  },
  {
   "cell_type": "code",
   "execution_count": 53,
   "metadata": {},
   "outputs": [
    {
     "name": "stdout",
     "output_type": "stream",
     "text": [
      "[[ 0.68569351 -0.042434    1.27431544  0.51627069]\n",
      " [-0.042434    0.18997942 -0.32965638 -0.12163937]\n",
      " [ 1.27431544 -0.32965638  3.11627785  1.2956094 ]\n",
      " [ 0.51627069 -0.12163937  1.2956094   0.58100626]]\n"
     ]
    }
   ],
   "source": [
    "n=len(data)\n",
    "cov_d=(np.dot(d.T,d)/(n-1))\n",
    "print(cov_d)"
   ]
  },
  {
   "cell_type": "code",
   "execution_count": 54,
   "metadata": {},
   "outputs": [
    {
     "name": "stdout",
     "output_type": "stream",
     "text": [
      "[4.22824171 0.24267075 0.0782095  0.02383509]\n",
      "[[ 0.36138659 -0.65658877 -0.58202985  0.31548719]\n",
      " [-0.08452251 -0.73016143  0.59791083 -0.3197231 ]\n",
      " [ 0.85667061  0.17337266  0.07623608 -0.47983899]\n",
      " [ 0.3582892   0.07548102  0.54583143  0.75365743]]\n"
     ]
    }
   ],
   "source": [
    "eigen_vals, eigen_vecs = np.linalg.eig(cov_d)\n",
    "print(eigen_vals)\n",
    "print(eigen_vecs)"
   ]
  },
  {
   "cell_type": "code",
   "execution_count": 55,
   "metadata": {},
   "outputs": [
    {
     "name": "stdout",
     "output_type": "stream",
     "text": [
      "(150, 4)\n"
     ]
    }
   ],
   "source": [
    "data1=[]\n",
    "data1=np.dot(d,eigen_vecs)\n",
    "print(data1.shape)"
   ]
  },
  {
   "cell_type": "code",
   "execution_count": 56,
   "metadata": {},
   "outputs": [
    {
     "name": "stdout",
     "output_type": "stream",
     "text": [
      "Eigenvalues in descending order:\n",
      "4.228241706034865\n",
      "0.24267074792863347\n",
      "0.07820950004291952\n",
      "0.02383509297344935\n"
     ]
    }
   ],
   "source": [
    "# Make a list of (eigenvalue, eigenvector) tuples\n",
    "e_pairs = [(np.abs(eigen_vals[i]), eigen_vecs[:,i]) for i in range(len(eigen_vals))]\n",
    "\n",
    "# Sort the (eigenvalue, eigenvector) tuples from high to low\n",
    "e_pairs.sort()\n",
    "e_pairs.reverse()\n",
    "\n",
    "print('Eigenvalues in descending order:')\n",
    "for i in e_pairs:\n",
    "    print(i[0]) #print eigen values"
   ]
  },
  {
   "cell_type": "code",
   "execution_count": 57,
   "metadata": {},
   "outputs": [
    {
     "data": {
      "text/plain": [
       "array([ 92.46187232,  97.76852063,  99.47878161, 100.        ])"
      ]
     },
     "execution_count": 57,
     "metadata": {},
     "output_type": "execute_result"
    }
   ],
   "source": [
    "var_exp = [(i / sum(eigen_vals))*100 for i in sorted(eigen_vals, reverse=True)]\n",
    "np.cumsum(var_exp)\n"
   ]
  },
  {
   "cell_type": "code",
   "execution_count": 58,
   "metadata": {},
   "outputs": [
    {
     "data": {
      "text/plain": [
       "<matplotlib.collections.PathCollection at 0x19a67699fd0>"
      ]
     },
     "execution_count": 58,
     "metadata": {},
     "output_type": "execute_result"
    },
    {
     "data": {
      "image/png": "[encoded data removed]",
      "text/plain": [
       "<Figure size 432x288 with 1 Axes>"
      ]
     },
     "metadata": {
      "needs_background": "light"
     },
     "output_type": "display_data"
    }
   ],
   "source": [
    "plt.scatter(data_inp,data1)"
   ]
  },
  {
   "cell_type": "code",
   "execution_count": 59,
   "metadata": {},
   "outputs": [
    {
     "name": "stdout",
     "output_type": "stream",
     "text": [
      "Matrix W:\n",
      " [[ 0.36138659 -0.65658877]\n",
      " [-0.08452251 -0.73016143]\n",
      " [ 0.85667061  0.17337266]\n",
      " [ 0.3582892   0.07548102]]\n"
     ]
    }
   ],
   "source": [
    "matrix_w = np.hstack((e_pairs[0][1].reshape(4,1), \n",
    "                      e_pairs[1][1].reshape(4,1)))\n",
    "print('Matrix W:\\n', matrix_w)\n",
    "X_new = data_inp.dot(matrix_w)"
   ]
  },
  {
   "cell_type": "code",
   "execution_count": 60,
   "metadata": {},
   "outputs": [
    {
     "data": {
      "text/plain": [
       "array([[ 2.81823951, -5.64634982],\n",
       "       [ 2.78822345, -5.14995135],\n",
       "       [ 2.61337456, -5.18200315],\n",
       "       [ 2.75702228, -5.0086536 ],\n",
       "       [ 2.7736486 , -5.65370709],\n",
       "       [ 3.2215055 , -6.06828303],\n",
       "       [ 2.68182738, -5.23749119],\n",
       "       [ 2.87622016, -5.49033754],\n",
       "       [ 2.6159824 , -4.74864082],\n",
       "       [ 2.82960933, -5.21317833],\n",
       "       [ 2.99541804, -5.97202148],\n",
       "       [ 2.8896099 , -5.34168252],\n",
       "       [ 2.71625587, -5.09184058],\n",
       "       [ 2.27856139, -4.81555799],\n",
       "       [ 2.85761474, -6.50571721],\n",
       "       [ 3.1163261 , -6.66501491],\n",
       "       [ 2.87883726, -6.13763209],\n",
       "       [ 2.85406843, -5.63880172],\n",
       "       [ 3.30254481, -6.19979162],\n",
       "       [ 2.91437873, -5.84051289],\n",
       "       [ 3.19210892, -5.71829851],\n",
       "       [ 2.9586599 , -5.75994864],\n",
       "       [ 2.28642572, -5.46042065],\n",
       "       [ 3.19963195, -5.42566143],\n",
       "       [ 3.14661108, -5.28967072],\n",
       "       [ 2.99569623, -5.1809357 ],\n",
       "       [ 3.03354506, -5.45790407],\n",
       "       [ 2.94004523, -5.69467143],\n",
       "       [ 2.86283042, -5.63899256],\n",
       "       [ 2.87037575, -5.12999135],\n",
       "       [ 2.91496666, -5.12263409],\n",
       "       [ 3.09243264, -5.73787684],\n",
       "       [ 2.8535028 , -6.1403164 ],\n",
       "       [ 2.90362838, -6.42009834],\n",
       "       [ 2.86543825, -5.20563023],\n",
       "       [ 2.63612348, -5.39631705],\n",
       "       [ 2.87712708, -5.9263226 ],\n",
       "       [ 2.70168102, -5.59559631],\n",
       "       [ 2.52186309, -4.83899423],\n",
       "       [ 2.91235882, -5.55599641],\n",
       "       [ 2.73226271, -5.59048011],\n",
       "       [ 2.65299643, -4.385992  ],\n",
       "       [ 2.50495859, -4.98502652],\n",
       "       [ 3.09675065, -5.51582401],\n",
       "       [ 3.29287589, -5.76361572],\n",
       "       [ 2.78791371, -5.07674437],\n",
       "       [ 2.96421687, -5.83072372],\n",
       "       [ 2.66290296, -5.09900701],\n",
       "       [ 2.95927938, -5.9063626 ],\n",
       "       [ 2.79900535, -5.43465866],\n",
       "       [ 6.78719082, -6.01211305],\n",
       "       [ 6.43485366, -5.64528622],\n",
       "       [ 6.96666745, -5.83121539],\n",
       "       [ 5.68568285, -4.49899357],\n",
       "       [ 6.59046839, -5.40154325],\n",
       "       [ 6.14403422, -4.90870571],\n",
       "       [ 6.5974258 , -5.61042085],\n",
       "       [ 4.75324246, -4.32206162],\n",
       "       [ 6.54649696, -5.55531448],\n",
       "       [ 5.49361973, -4.60387067],\n",
       "       [ 4.99452425, -4.06098139],\n",
       "       [ 6.01406369, -5.22297134],\n",
       "       [ 5.76734164, -4.77691611],\n",
       "       [ 6.48729964, -5.20213472],\n",
       "       [ 5.32843976, -5.07209837],\n",
       "       [ 6.43022591, -5.79413207],\n",
       "       [ 6.16264889, -4.97398291],\n",
       "       [ 5.73847013, -4.99334181],\n",
       "       [ 6.44709886, -4.78380703],\n",
       "       [ 5.54759211, -4.7431182 ],\n",
       "       [ 6.61864831, -5.24233572],\n",
       "       [ 5.86025355, -5.25802755],\n",
       "       [ 6.80054901, -4.99916527],\n",
       "       [ 6.42409406, -5.14421478],\n",
       "       [ 6.21721846, -5.47600852],\n",
       "       [ 6.40253951, -5.65545705],\n",
       "       [ 6.83438957, -5.57139345],\n",
       "       [ 7.06016729, -5.59444802],\n",
       "       [ 6.31565578, -5.16360228],\n",
       "       [ 5.19678135, -4.95869039],\n",
       "       [ 5.43423864, -4.62178045],\n",
       "       [ 5.31274266, -4.64666581],\n",
       "       [ 5.63879384, -5.01292014],\n",
       "       [ 6.88239157, -4.90599829],\n",
       "       [ 6.09037158, -4.84266516],\n",
       "       [ 6.30922345, -5.52113489],\n",
       "       [ 6.72305602, -5.73457217],\n",
       "       [ 6.31746037, -4.95491552],\n",
       "       [ 5.74832281, -5.05842818],\n",
       "       [ 5.66877835, -4.64502585],\n",
       "       [ 5.96716542, -4.65624103],\n",
       "       [ 6.39318033, -5.29248813],\n",
       "       [ 5.73291316, -4.92256673],\n",
       "       [ 4.79783337, -4.31470435],\n",
       "       [ 5.85934663, -4.82204248],\n",
       "       [ 5.83429961, -5.11429789],\n",
       "       [ 5.87858078, -5.03373365],\n",
       "       [ 6.14494114, -5.34469077],\n",
       "       [ 4.59589527, -4.57085921],\n",
       "       [ 5.80136597, -4.97805477],\n",
       "       [ 8.03355786, -5.31710347],\n",
       "       [ 6.91760101, -4.75203623],\n",
       "       [ 8.11904115, -5.67085573],\n",
       "       [ 7.47389619, -5.14722467],\n",
       "       [ 7.85237105, -5.28669163],\n",
       "       [ 8.89940387, -5.87778925],\n",
       "       [ 6.02359738, -4.13419385],\n",
       "       [ 8.4349522 , -5.68245258],\n",
       "       [ 7.82359395, -5.08312107],\n",
       "       [ 8.4191161 , -6.10974453],\n",
       "       [ 7.16413929, -5.56918098],\n",
       "       [ 7.30576709, -5.11131496],\n",
       "       [ 7.66795693, -5.54322816],\n",
       "       [ 6.84852871, -4.55013423],\n",
       "       [ 7.08829336, -4.78731186],\n",
       "       [ 7.40682151, -5.44620327],\n",
       "       [ 7.45205419, -5.36889584],\n",
       "       [ 8.9894205 , -6.50269191],\n",
       "       [ 9.29801055, -5.58427555],\n",
       "       [ 6.80315685, -4.56580294],\n",
       "       [ 7.93018305, -5.70514859],\n",
       "       [ 6.70136624, -4.72086105],\n",
       "       [ 9.00228517, -5.78762668],\n",
       "       [ 6.89113126, -5.12255325],\n",
       "       [ 7.77779564, -5.66194318],\n",
       "       [ 8.11645561, -5.88785393],\n",
       "       [ 6.76087329, -5.14724778],\n",
       "       [ 6.79349719, -5.21028393],\n",
       "       [ 7.62597386, -5.1172231 ],\n",
       "       [ 7.89036815, -5.79159238],\n",
       "       [ 8.34403791, -5.70222174],\n",
       "       [ 8.73303879, -6.70111766],\n",
       "       [ 7.66180278, -5.109675  ],\n",
       "       [ 6.94652637, -5.18353917],\n",
       "       [ 7.28365994, -4.8270509 ],\n",
       "       [ 8.57886506, -6.01503825],\n",
       "       [ 7.64660845, -5.46701678],\n",
       "       [ 7.40746328, -5.3762531 ],\n",
       "       [ 6.67169147, -5.16196231],\n",
       "       [ 7.60997628, -5.69924045],\n",
       "       [ 7.81651984, -5.51060386],\n",
       "       [ 7.42463293, -5.73615604],\n",
       "       [ 6.91760101, -4.75203623],\n",
       "       [ 8.06537851, -5.60481518],\n",
       "       [ 7.92111132, -5.63175077],\n",
       "       [ 7.44647493, -5.51448488],\n",
       "       [ 7.02953175, -4.95163559],\n",
       "       [ 7.26671085, -5.40581143],\n",
       "       [ 7.40330675, -5.44358054],\n",
       "       [ 6.89255399, -5.04429164]])"
      ]
     },
     "execution_count": 60,
     "metadata": {},
     "output_type": "execute_result"
    }
   ],
   "source": [
    "X_new"
   ]
  },
  {
   "cell_type": "code",
   "execution_count": 63,
   "metadata": {},
   "outputs": [
    {
     "data": {
      "text/plain": [
       "<seaborn.axisgrid.FacetGrid at 0x19a676fca58>"
      ]
     },
     "execution_count": 63,
     "metadata": {},
     "output_type": "execute_result"
    },
    {
     "data": {
      "image/png": "[encoded data removed]",
      "text/plain": [
       "<Figure size 732.75x432 with 1 Axes>"
      ]
     },
     "metadata": {
      "needs_background": "light"
     },
     "output_type": "display_data"
    }
   ],
   "source": [
    "import seaborn as sns\n",
    "\n",
    "data[\"PC1\"] = X_new[:,0]\n",
    "data[\"PC2\"] = X_new[:,1]\n",
    "\n",
    "sns.lmplot(data = data[[\"PC1\",\"PC2\",\"Species\"]], x = \"PC1\", y = \"PC2\",fit_reg=False, hue = \"Species\",\\\n",
    "                 size = 6, aspect=1.5, scatter_kws = {'s':50}, )\n",
    "\n"
   ]
  },
  {
   "cell_type": "code",
   "execution_count": 64,
   "metadata": {},
   "outputs": [],
   "source": [
    "#using scikit learn\n",
    "from sklearn.decomposition import PCA \n",
    "model = PCA(n_components=2)\n",
    "X_new = model.fit_transform(data_inp)\n"
   ]
  },
  {
   "cell_type": "code",
   "execution_count": 66,
   "metadata": {},
   "outputs": [
    {
     "data": {
      "text/plain": [
       "<seaborn.axisgrid.FacetGrid at 0x19a67dd54a8>"
      ]
     },
     "execution_count": 66,
     "metadata": {},
     "output_type": "execute_result"
    },
    {
     "data": {
      "image/png": "[encoded data removed]",
      "text/plain": [
       "<Figure size 732.75x432 with 1 Axes>"
      ]
     },
     "metadata": {
      "needs_background": "light"
     },
     "output_type": "display_data"
    }
   ],
   "source": [
    "data[\"PC1\"] = X_new[:,0]\n",
    "data[\"PC2\"] = X_new[:,1]\n",
    "\n",
    "\n",
    "sns.lmplot(data = data[[\"PC1\",\"PC2\",\"Species\"]], x = \"PC1\", y = \"PC2\",fit_reg=False, hue = \"Species\",\\\n",
    "                 height = 6, aspect=1.5, scatter_kws = {'s':50}, )\n",
    "\n"
   ]
  },
  {
   "cell_type": "code",
   "execution_count": null,
   "metadata": {},
   "outputs": [],
   "source": []
  }
 ],
 "metadata": {
  "kernelspec": {
   "display_name": "Python 3",
   "language": "python",
   "name": "python3"
  },
  "language_info": {
   "codemirror_mode": {
    "name": "ipython",
    "version": 3
   },
   "file_extension": ".py",
   "mimetype": "text/x-python",
   "name": "python",
   "nbconvert_exporter": "python",
   "pygments_lexer": "ipython3",
   "version": "3.7.3"
  }
 },
 "nbformat": 4,
 "nbformat_minor": 2
}
